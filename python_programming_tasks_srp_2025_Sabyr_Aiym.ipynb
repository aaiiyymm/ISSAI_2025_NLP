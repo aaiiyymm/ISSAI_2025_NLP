{
  "nbformat": 4,
  "nbformat_minor": 0,
  "metadata": {
    "colab": {
      "provenance": []
    },
    "kernelspec": {
      "name": "python3",
      "display_name": "Python 3"
    },
    "language_info": {
      "name": "python"
    }
  },
  "cells": [
    {
      "cell_type": "markdown",
      "source": [
        "<h1>Part 1</h1>"
      ],
      "metadata": {
        "id": "lLioK3Wxb7BF"
      }
    },
    {
      "cell_type": "markdown",
      "source": [
        "<h2> 1.1 Getting started </h2>"
      ],
      "metadata": {
        "id": "QFUOnxLgdIl-"
      }
    },
    {
      "cell_type": "markdown",
      "source": [
        "Please write a program which prints out an emoticon: :-)"
      ],
      "metadata": {
        "id": "-HgyFsvTcbgp"
      }
    },
    {
      "cell_type": "code",
      "source": [
        "print(':-)')"
      ],
      "metadata": {
        "id": "X5BPROVZcgZh"
      },
      "execution_count": null,
      "outputs": []
    },
    {
      "cell_type": "markdown",
      "source": [
        "Fix the code: Seven Brothers"
      ],
      "metadata": {
        "id": "TArHBoFEcjtd"
      }
    },
    {
      "cell_type": "code",
      "source": [
        "print(\"Aapo\")\n",
        "print(\"Eero\")\n",
        "print(\"Juhani\")\n",
        "print(\"Lauri\")\n",
        "print(\"Simeoni\")\n",
        "print(\"Timo\")\n",
        "print(\"Tuomas\")"
      ],
      "metadata": {
        "id": "Cxu8IAnTcp4q"
      },
      "execution_count": null,
      "outputs": []
    },
    {
      "cell_type": "markdown",
      "source": [
        "Row, Row, Row Your Boat"
      ],
      "metadata": {
        "id": "wBIL-guRctqk"
      }
    },
    {
      "cell_type": "code",
      "source": [
        "print(\"Row, row, row your boat,\")\n",
        "print(\"Gently down the stream.\")\n",
        "print(\"Merrily, merrily, merrily, merrily,\")\n",
        "print(\"Life is but a dream.\")"
      ],
      "metadata": {
        "id": "5AbYUhMYc0L0"
      },
      "execution_count": null,
      "outputs": []
    },
    {
      "cell_type": "markdown",
      "source": [
        "Minutes in a year"
      ],
      "metadata": {
        "id": "bYthpelGc2FC"
      }
    },
    {
      "cell_type": "code",
      "source": [
        "print(365 * 24 * 60)"
      ],
      "metadata": {
        "id": "bT6D4Srxc5LM"
      },
      "execution_count": null,
      "outputs": []
    },
    {
      "cell_type": "markdown",
      "source": [
        "Print some code"
      ],
      "metadata": {
        "id": "hNS14sXyc7PM"
      }
    },
    {
      "cell_type": "code",
      "source": [
        "print('print(\"Hello there!\")')"
      ],
      "metadata": {
        "id": "MSKbAz1Ec-H3"
      },
      "execution_count": null,
      "outputs": []
    },
    {
      "cell_type": "markdown",
      "source": [
        "<h2> 1.2 Information from the user </h2>"
      ],
      "metadata": {
        "id": "hZ2xZjoodAOA"
      }
    },
    {
      "cell_type": "markdown",
      "source": [
        "Name twice"
      ],
      "metadata": {
        "id": "D3UT6hU-dlUK"
      }
    },
    {
      "cell_type": "code",
      "source": [
        "name = input()\n",
        "print(name)\n",
        "print(name)"
      ],
      "metadata": {
        "id": "Szt250Lodxmv"
      },
      "execution_count": null,
      "outputs": []
    },
    {
      "cell_type": "markdown",
      "source": [
        "Name and exclamation marks"
      ],
      "metadata": {
        "id": "0GY6Cm_Ddz2K"
      }
    },
    {
      "cell_type": "code",
      "source": [
        "name = input()\n",
        "print('!', name, '!', name, '!', sep=\"\")"
      ],
      "metadata": {
        "id": "7Q1GMQAKd2xN"
      },
      "execution_count": null,
      "outputs": []
    },
    {
      "cell_type": "markdown",
      "source": [
        "Name and address"
      ],
      "metadata": {
        "id": "XJGdcD-Ad48a"
      }
    },
    {
      "cell_type": "code",
      "source": [
        "n1 = input()\n",
        "n2 = input()\n",
        "n3 = input()\n",
        "n4 = input()\n",
        "print(n1, n2)\n",
        "print(n3)\n",
        "print(n4)"
      ],
      "metadata": {
        "id": "pEPBVf1Xd7xX"
      },
      "execution_count": null,
      "outputs": []
    },
    {
      "cell_type": "markdown",
      "source": [
        "Fix the code: Utterances"
      ],
      "metadata": {
        "id": "3FMshdfXd94E"
      }
    },
    {
      "cell_type": "code",
      "source": [
        "# Fix the code\n",
        "part1 = input(\"The 1st part: \")\n",
        "part2 = input(\"The 2nd part: \")\n",
        "part3 = input(\"The 3rd part: \")\n",
        "print(part1, '-', part2, '-', part3, '!', sep=\"\")\n"
      ],
      "metadata": {
        "id": "9xTvNgiEd_8u"
      },
      "execution_count": null,
      "outputs": []
    },
    {
      "cell_type": "markdown",
      "source": [
        "Story"
      ],
      "metadata": {
        "id": "EvR-rFrAeCyv"
      }
    },
    {
      "cell_type": "code",
      "source": [
        "n1 = input()\n",
        "n2 = input()\n",
        "print(n1, \" is a valiant knight, born in the year \", n2, \". One morning \" , n1, \" woke up to an awful racket: a dragon was approaching the village. Only \", n1, \" could save the village's residents.\", sep=\"\")"
      ],
      "metadata": {
        "id": "ScpeL3qjeGG9"
      },
      "execution_count": null,
      "outputs": []
    },
    {
      "cell_type": "markdown",
      "source": [
        "<h2> 1.3 More about variables </h2>"
      ],
      "metadata": {
        "id": "xYMhH8iheIe8"
      }
    },
    {
      "cell_type": "markdown",
      "source": [
        "Extra space"
      ],
      "metadata": {
        "id": "XbqDUPlDeb-7"
      }
    },
    {
      "cell_type": "code",
      "source": [
        "\n",
        "name = \"Tim Tester\"\n",
        "age = 20\n",
        "skill1 = \"python\"\n",
        "level1 = \"beginner\"\n",
        "skill2 = \"java\"\n",
        "level2 = \"veteran\"\n",
        "skill3 = \"programming\"\n",
        "level3 = \"semiprofessional\"\n",
        "lower = 2000\n",
        "upper = 3000\n",
        "\n",
        "print(\"my name is \", name, \", I am \", age, \" years old\", sep=\"\")\n",
        "print()\n",
        "print(\"my skills are\")\n",
        "print(\" - \", skill1, \" (\", level1, \")\", sep=\"\")\n",
        "print(\" - \", skill2, \" (\", level2, \")\", sep=\"\")\n",
        "print(\" - \", skill3, \" (\", level3, \")\", sep=\"\")\n",
        "print()\n",
        "print(\"I am looking for a job with a salary of \", lower, \"-\", upper, \" euros per month\", sep=\"\")"
      ],
      "metadata": {
        "id": "3JcALbcQehqZ"
      },
      "execution_count": null,
      "outputs": []
    },
    {
      "cell_type": "markdown",
      "source": [
        "Arithmetics"
      ],
      "metadata": {
        "id": "rRNKaAL_ekjb"
      }
    },
    {
      "cell_type": "code",
      "source": [
        "# Write your solution here\n",
        "x = 27\n",
        "y = 15\n",
        "\n",
        "print(f\"{x} + {y} = {x+y}\")\n",
        "print(f\"{x} - {y} = {x-y}\")\n",
        "print(f\"{x} * {y} = {x*y}\")\n",
        "print(f\"{x} / {y} = {x/y}\")"
      ],
      "metadata": {
        "id": "nhTRNGXHeqdc"
      },
      "execution_count": null,
      "outputs": []
    },
    {
      "cell_type": "markdown",
      "source": [
        "Fix the code: Print a single line"
      ],
      "metadata": {
        "id": "i0NcL6Nee54T"
      }
    },
    {
      "cell_type": "code",
      "source": [
        "print(5, end=\"\")\n",
        "print(\" + \", end=\"\")\n",
        "print(8, end=\"\")\n",
        "print(\" - \", end=\"\")\n",
        "print(4, end=\"\")\n",
        "print(\" = \", end=\"\")\n",
        "print(5 + 8 - 4)\n"
      ],
      "metadata": {
        "id": "rBpdUnB6e8os"
      },
      "execution_count": null,
      "outputs": []
    },
    {
      "cell_type": "markdown",
      "source": [
        "<h2> 1.4 Arithmetic operations </h2>"
      ],
      "metadata": {
        "id": "x_UHOwp7fXho"
      }
    },
    {
      "cell_type": "markdown",
      "source": [
        "Times five"
      ],
      "metadata": {
        "id": "34O4h-9ffbDt"
      }
    },
    {
      "cell_type": "code",
      "source": [
        "n = int(input())\n",
        "print(n, \"times 5 is\", n*5)"
      ],
      "metadata": {
        "id": "nNnSCS9qffkX"
      },
      "execution_count": null,
      "outputs": []
    },
    {
      "cell_type": "markdown",
      "source": [
        "Name and age"
      ],
      "metadata": {
        "id": "aRYZC6WpfiYN"
      }
    },
    {
      "cell_type": "code",
      "source": [
        "n = input()\n",
        "m = int(input())\n",
        "print(\"Hi \", n, \", you will be \", 2021 - m, \" years old at the end of the year 2021\", sep=\"\")"
      ],
      "metadata": {
        "id": "Ls3QbQCwfkns"
      },
      "execution_count": null,
      "outputs": []
    },
    {
      "cell_type": "markdown",
      "source": [
        "Seconds in a day"
      ],
      "metadata": {
        "id": "wyWmiQU5fmkr"
      }
    },
    {
      "cell_type": "code",
      "source": [
        "d = int(input(\"How many days?\"))\n",
        "print(f\"Seconds in that many days: {d*24*60*60}\")\n"
      ],
      "metadata": {
        "id": "X9p0o8j1fqTN"
      },
      "execution_count": null,
      "outputs": []
    },
    {
      "cell_type": "markdown",
      "source": [
        "Fix the code: Product"
      ],
      "metadata": {
        "id": "HpyM3P0Pf_jr"
      }
    },
    {
      "cell_type": "code",
      "source": [
        "# Fix the code\n",
        "number1 = int(input(\"Please type in the first number: \"))\n",
        "number2 = int(input(\"Please type in the second number: \"))\n",
        "number3 = int(input(\"Please type in the third number: \"))\n",
        "product = number1 * number2 * number3\n",
        "print(\"The product is\", product)\n"
      ],
      "metadata": {
        "id": "vSmenUHrgDAm"
      },
      "execution_count": null,
      "outputs": []
    },
    {
      "cell_type": "markdown",
      "source": [
        "Sum and product"
      ],
      "metadata": {
        "id": "5J5Jf2gjgNpU"
      }
    },
    {
      "cell_type": "code",
      "source": [
        "n1 = int(input(\"Number 1: \"))\n",
        "n2 = int(input(\"Number 2: \"))\n",
        "print(f\"The sum of the numbers: {n1 + n2}\")\n",
        "print(f\"The product of the numbers: {n1 * n2}\")"
      ],
      "metadata": {
        "id": "rYAA-OcQgQDZ"
      },
      "execution_count": null,
      "outputs": []
    },
    {
      "cell_type": "markdown",
      "source": [
        "Sum and mean"
      ],
      "metadata": {
        "id": "b6tkHtjWgjOl"
      }
    },
    {
      "cell_type": "code",
      "source": [
        "s = 0\n",
        "s += int(input(\"Number 1: \"))\n",
        "s += int(input(\"Number 2: \"))\n",
        "s += int(input(\"Number 3: \"))\n",
        "s += int(input(\"Number 4: \"))\n",
        "print(f\"The sum of the numbers is {s} and the mean is {s/4}\")"
      ],
      "metadata": {
        "id": "sJesMW2UglZd"
      },
      "execution_count": null,
      "outputs": []
    },
    {
      "cell_type": "markdown",
      "source": [
        "Food expenditure"
      ],
      "metadata": {
        "id": "ao-PLEWxgxrQ"
      }
    },
    {
      "cell_type": "code",
      "source": [
        "t = int(input(\"How many times a week do you eat at the student cafeteria? \"))\n",
        "l = float(input(\"The price of a typical student lunch? \"))\n",
        "g = float(input(\"How much money do you spend on groceries in a week? \"))\n",
        "ans = t * l + g\n",
        "print(\"Average food expenditure:\")\n",
        "print(f\"Daily: {ans/7} euros\")\n",
        "print(f\"Weekly: {ans} euros\")"
      ],
      "metadata": {
        "id": "pU0hXehLgzxV"
      },
      "execution_count": null,
      "outputs": []
    },
    {
      "cell_type": "markdown",
      "source": [
        "Students in groups"
      ],
      "metadata": {
        "id": "f3QUQohThJu-"
      }
    },
    {
      "cell_type": "code",
      "source": [
        "n = int(input(\"How many students on the course? \"))\n",
        "m = int(input(\"Desired group size? \"))\n",
        "if (n % m > 0):\n",
        "\tans = n//m + 1\n",
        "else:\n",
        "\tans = n//m\n",
        "print(f\"Number of groups formed: {ans}\")"
      ],
      "metadata": {
        "id": "imLRjs-chMBY"
      },
      "execution_count": null,
      "outputs": []
    },
    {
      "cell_type": "markdown",
      "source": [
        "<h2> 1.5 Conditional statements </h2>"
      ],
      "metadata": {
        "id": "Tsn3K_epeUAH"
      }
    },
    {
      "cell_type": "markdown",
      "source": [
        "Orwell"
      ],
      "metadata": {
        "id": "_p0nnwFAiXmB"
      }
    },
    {
      "cell_type": "code",
      "source": [
        "n = int(input(\"Please type in a number: \"))\n",
        "if n == 1984:\n",
        "    print(\"Orwell\")"
      ],
      "metadata": {
        "id": "40DTRIOwidGv"
      },
      "execution_count": null,
      "outputs": []
    },
    {
      "cell_type": "markdown",
      "source": [
        "Absolute value"
      ],
      "metadata": {
        "id": "MN4SNto_ioOf"
      }
    },
    {
      "cell_type": "code",
      "source": [
        "n = int(input(\"Please type in a number: \"))\n",
        "if n < 0:\n",
        "    n *= -1\n",
        "print(f\"The absolute value of this number is {n}\")"
      ],
      "metadata": {
        "id": "4xlb-LNviq9F"
      },
      "execution_count": null,
      "outputs": []
    },
    {
      "cell_type": "markdown",
      "source": [
        "Soup or no soup"
      ],
      "metadata": {
        "id": "b8baMIU-i4DM"
      }
    },
    {
      "cell_type": "code",
      "source": [
        "s = input(\"Please tell me your name: \")\n",
        "if s != \"Jerry\":\n",
        "\tans = int(input(\"How many portions of soup?\"))\n",
        "\tprint(f\"The total cost is {ans * 5.9} \")\n",
        "print(\"Next please!\")"
      ],
      "metadata": {
        "id": "DYnuVbBFi58j"
      },
      "execution_count": null,
      "outputs": []
    },
    {
      "cell_type": "markdown",
      "source": [
        "Order of magnitude"
      ],
      "metadata": {
        "id": "5Ie8f7jIjGnU"
      }
    },
    {
      "cell_type": "code",
      "source": [
        "n = int(input(\"Please type in a number:\"))\n",
        "if n < 1000:\n",
        "    print(\"This number is smaller than 1000\")\n",
        "if n < 100:\n",
        "\tprint(\"This number is smaller than 100\")\n",
        "if n < 10:\n",
        "\tprint(\"This number is smaller than 10\")\n",
        "print(\"Thank you!\")"
      ],
      "metadata": {
        "id": "fZluiwKrjIi3"
      },
      "execution_count": null,
      "outputs": []
    },
    {
      "cell_type": "markdown",
      "source": [
        "Calculator"
      ],
      "metadata": {
        "id": "uWS-stYEjTRa"
      }
    },
    {
      "cell_type": "code",
      "source": [
        "n1 = int(input(\"NUmber 1: \"))\n",
        "n2 = int(input(\"NUmber 2: \"))\n",
        "m = input(\"Operation: \")\n",
        "if m == \"add\":\n",
        "    print(f\"{n1} + {n2} = {n1 + n2 }\")\n",
        "elif m == \"multiply\":\n",
        "    print(f\"{n1} * {n2} = {n1 * n2 }\")\n",
        "elif m == \"subtract\":\n",
        "    print(f\"{n1} - {n2} = {n1 - n2 }\")"
      ],
      "metadata": {
        "id": "fMuzn_mnjVho"
      },
      "execution_count": null,
      "outputs": []
    },
    {
      "cell_type": "markdown",
      "source": [
        "Temperatures"
      ],
      "metadata": {
        "id": "dpuqrfgxjqxj"
      }
    },
    {
      "cell_type": "code",
      "source": [
        "tf = int(input(\"Please type in a temperature (F): \"))\n",
        "tg = (tf - 32)/1.8\n",
        "print(f\"{tf} degrees Fahrenheit equals {tg} degrees Celsius\")\n",
        "if tg < 0:\n",
        "    print(\"Brr! It's cold in here!\")"
      ],
      "metadata": {
        "id": "9DwFziPSjtFE"
      },
      "execution_count": null,
      "outputs": []
    },
    {
      "cell_type": "markdown",
      "source": [
        "Daily wages"
      ],
      "metadata": {
        "id": "voTILGqij7NP"
      }
    },
    {
      "cell_type": "code",
      "source": [
        "w = float(input(\"Hourly wage: \"))\n",
        "h = float(input(\"Hours worked: \"))\n",
        "d = input(\"Day of the week: \")\n",
        "ans = w * h\n",
        "if d == \"Sunday\":\n",
        "\tans *= 2\n",
        "print(f\"Daily wages: {ans} euros\")"
      ],
      "metadata": {
        "id": "cWdl0y_2j_GV"
      },
      "execution_count": null,
      "outputs": []
    },
    {
      "cell_type": "markdown",
      "source": [
        "Loyalty bonus"
      ],
      "metadata": {
        "id": "IV-mqc66kYlZ"
      }
    },
    {
      "cell_type": "code",
      "source": [
        "points = int(input(\"How many points are on your card? \"))\n",
        "if points < 100:\n",
        "    points *= 1.1\n",
        "    print(\"Your bonus is 10 %\")\n",
        "elif points >= 100:\n",
        "    points *= 1.15\n",
        "    print(\"Your bonus is 15 %\")\n",
        "print(\"You now have\", points, \"points\")"
      ],
      "metadata": {
        "id": "jhGxgIS3kbRO"
      },
      "execution_count": null,
      "outputs": []
    },
    {
      "cell_type": "markdown",
      "source": [
        "What to wear tomorrow"
      ],
      "metadata": {
        "id": "5BjvQGB1kkI-"
      }
    },
    {
      "cell_type": "code",
      "source": [
        "print(\"What is the weather forecast for tomorrow?\")\n",
        "t = int(input(\"Temperature: \"))\n",
        "r = input(\"Will it rain (yes/no): \")\n",
        "print(\"Wear jeans and a T-shirt\")\n",
        "if t <= 20:\n",
        "    print(\"I recommend a jumper as well\")\n",
        "if t <= 10:\n",
        "    print(\"Take a jacket with you\")\n",
        "if t <= 5:\n",
        "    print(\"Make it a warm coat, actually\\nI think gloves are in order\")\n",
        "if r == \"yes\":\n",
        "    print(\"Don't forget your umbrella!\")"
      ],
      "metadata": {
        "id": "BVEpixGDkl4L"
      },
      "execution_count": null,
      "outputs": []
    },
    {
      "cell_type": "markdown",
      "source": [
        "Solving a quadratic equation"
      ],
      "metadata": {
        "id": "6zQWy60sk2PU"
      }
    },
    {
      "cell_type": "code",
      "source": [
        "from math import sqrt\n",
        "a = int(input(\"Value of a: \"))\n",
        "b = int(input(\"Value of b: \"))\n",
        "c = int(input(\"Value of c: \"))\n",
        "root_pos = (-b + sqrt((b**2) - 4 * a * c))/(2 * a)\n",
        "root_neg = (-b - sqrt((b**2) - 4 * a * c))/(2 * a)\n",
        "print(f\"The roots are {root_pos} and {root_neg}\")"
      ],
      "metadata": {
        "id": "1aRhYX0Fk5Gx"
      },
      "execution_count": null,
      "outputs": []
    },
    {
      "cell_type": "markdown",
      "source": [
        "<h1> Part 2 </h1>"
      ],
      "metadata": {
        "id": "djV9pG9rlE-F"
      }
    },
    {
      "cell_type": "markdown",
      "source": [
        "<h2> 2.1 Programming terminology </h2>"
      ],
      "metadata": {
        "id": "BadKS0lxlHoQ"
      }
    },
    {
      "cell_type": "code",
      "source": [],
      "metadata": {
        "id": "MzE1fh3IlQAP"
      },
      "execution_count": null,
      "outputs": []
    },
    {
      "cell_type": "markdown",
      "source": [],
      "metadata": {
        "id": "lqgjiHPBlL1p"
      }
    }
  ]
}